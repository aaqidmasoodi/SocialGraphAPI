{
 "cells": [
  {
   "cell_type": "markdown",
   "metadata": {},
   "source": [
    "# Hi, Shivani\n",
    "> I have prepared a basic script to authenticate and fetch data from the facebook api\n",
    "> According to the new policies some endpoints that are used to fetch end user data requrie app review.\n",
    "> so i have completely skipped them.\n",
    "> Hope this sufficies the purpose."
   ]
  },
  {
   "cell_type": "code",
   "execution_count": 128,
   "metadata": {},
   "outputs": [],
   "source": [
    "import os\n",
    "import json\n",
    "import facebook\n",
    "from dotenv import load_dotenv\n"
   ]
  },
  {
   "cell_type": "code",
   "execution_count": 145,
   "metadata": {},
   "outputs": [],
   "source": [
    "del os.environ['GRAPH_API_ACCESS_TOKEN']"
   ]
  },
  {
   "cell_type": "code",
   "execution_count": 146,
   "metadata": {},
   "outputs": [
    {
     "data": {
      "text/plain": [
       "True"
      ]
     },
     "execution_count": 146,
     "metadata": {},
     "output_type": "execute_result"
    }
   ],
   "source": [
    "load_dotenv()"
   ]
  },
  {
   "cell_type": "code",
   "execution_count": 147,
   "metadata": {},
   "outputs": [],
   "source": [
    "token = os.getenv('GRAPH_API_ACCESS_TOKEN')\n",
    "api = facebook.GraphAPI(access_token=token)"
   ]
  },
  {
   "cell_type": "markdown",
   "metadata": {},
   "source": [
    "#### getting my basic data"
   ]
  },
  {
   "cell_type": "code",
   "execution_count": 143,
   "metadata": {},
   "outputs": [],
   "source": [
    "fields = ('id, name, birthday, email, posts',)\n",
    "my_profile = api.get_object('me', fields=fields)"
   ]
  },
  {
   "cell_type": "code",
   "execution_count": 144,
   "metadata": {},
   "outputs": [
    {
     "name": "stdout",
     "output_type": "stream",
     "text": [
      "{\n",
      "    \"id\": \"105108368968419\",\n",
      "    \"name\": \"Aaqid DevAcc\",\n",
      "    \"birthday\": \"01/16/2000\",\n",
      "    \"email\": \"codewithaaqid@gmail.com\"\n",
      "}\n"
     ]
    }
   ],
   "source": [
    "print(json.dumps(my_profile, indent=4))"
   ]
  },
  {
   "cell_type": "markdown",
   "metadata": {},
   "source": [
    "#### getting my posts"
   ]
  },
  {
   "cell_type": "code",
   "execution_count": 149,
   "metadata": {},
   "outputs": [],
   "source": [
    "posts = api.get_object('me', fields=('posts',))"
   ]
  },
  {
   "cell_type": "code",
   "execution_count": 150,
   "metadata": {},
   "outputs": [
    {
     "name": "stdout",
     "output_type": "stream",
     "text": [
      "{\n",
      "    \"posts\": {\n",
      "        \"data\": [\n",
      "            {\n",
      "                \"created_time\": \"2022-08-02T11:13:11+0000\",\n",
      "                \"message\": \"test post 2\",\n",
      "                \"id\": \"105108368968419_105112578967998\"\n",
      "            },\n",
      "            {\n",
      "                \"created_time\": \"2022-08-02T11:13:02+0000\",\n",
      "                \"message\": \"test post 1\",\n",
      "                \"id\": \"105108368968419_105112565634666\"\n",
      "            },\n",
      "            {\n",
      "                \"created_time\": \"2000-01-16T08:00:00+0000\",\n",
      "                \"id\": \"105108368968419_105010518978204\"\n",
      "            }\n",
      "        ],\n",
      "        \"paging\": {\n",
      "            \"previous\": \"https://graph.facebook.com/v14.0/105108368968419/posts?access_token=EAAPzacrNY2oBACqgE4jrs4t2ZA12YkceZAYZAqAMW3Uh4ZCC6IrPdxXTSudZChUNUiPqCEOxjJqbhmQP6iRUE9ABMtlmHLzXUkq2G0u8HlLK5QlUlqIcBBlxGCqcZBHZAEbhAVBcQz5JBtOWt6GHpIEn50l9RKMYVNN6Q2p5HV9Hcw4muXYTcnzV12z9ZBLsVdmab8P8Cgos0SAMptVYdZCKnHESiTOUCf78ZD&__previous=1&since=1659438791&until&__paging_token=enc_AdDGSqWRZBnjHFebf7swZB5mCgFD6MDrN6Mq4in4ZCNRU7mEAx6cYC4jXdPHZCrMTZCpJmz3uhHQNQww5xZCK6ZBZAi2V7gT5IetquJwaZAFQ89RxaCEswrGuXbvmudoOSDNMxtiZBZCZCF4S7oryZCCWtya8cZB2cGTHO\",\n",
      "            \"next\": \"https://graph.facebook.com/v14.0/105108368968419/posts?access_token=EAAPzacrNY2oBACqgE4jrs4t2ZA12YkceZAYZAqAMW3Uh4ZCC6IrPdxXTSudZChUNUiPqCEOxjJqbhmQP6iRUE9ABMtlmHLzXUkq2G0u8HlLK5QlUlqIcBBlxGCqcZBHZAEbhAVBcQz5JBtOWt6GHpIEn50l9RKMYVNN6Q2p5HV9Hcw4muXYTcnzV12z9ZBLsVdmab8P8Cgos0SAMptVYdZCKnHESiTOUCf78ZD&until=948009600&since&__paging_token=enc_AdBxgUDg6wZCModR7jBFMPQGPC7w1EOpcnrqFUZBcsiB7lTSBMDOuuBgToUMIrlKN3N7UosHJMcmFflyziz2MbCfds1pMpIwcLaZAgWDSRUu5EDmtF9cyurjZB2pjnXtrzaMuJzarVUKHSeOc7udqayqCyxf&__previous\"\n",
      "        }\n",
      "    },\n",
      "    \"id\": \"105108368968419\"\n",
      "}\n"
     ]
    }
   ],
   "source": [
    "print(json.dumps(posts, indent=4))"
   ]
  },
  {
   "cell_type": "code",
   "execution_count": 156,
   "metadata": {},
   "outputs": [
    {
     "name": "stdout",
     "output_type": "stream",
     "text": [
      "{\n",
      "    \"data\": [\n",
      "        {\n",
      "            \"created_time\": \"2022-08-02T11:34:23+0000\",\n",
      "            \"message\": \"more test posts\",\n",
      "            \"id\": \"105108368968419_105124315633491\"\n",
      "        },\n",
      "        {\n",
      "            \"created_time\": \"2022-08-02T11:34:16+0000\",\n",
      "            \"message\": \"another one\",\n",
      "            \"id\": \"105108368968419_105124295633493\"\n",
      "        },\n",
      "        {\n",
      "            \"created_time\": \"2022-08-02T11:13:11+0000\",\n",
      "            \"message\": \"test post 2\",\n",
      "            \"id\": \"105108368968419_105112578967998\"\n",
      "        },\n",
      "        {\n",
      "            \"created_time\": \"2022-08-02T11:13:02+0000\",\n",
      "            \"message\": \"test post 1\",\n",
      "            \"id\": \"105108368968419_105112565634666\"\n",
      "        },\n",
      "        {\n",
      "            \"created_time\": \"2000-01-16T08:00:00+0000\",\n",
      "            \"id\": \"105108368968419_105010518978204\"\n",
      "        }\n",
      "    ],\n",
      "    \"paging\": {\n",
      "        \"previous\": \"https://graph.facebook.com/v14.0/105108368968419/feed?access_token=EAAPzacrNY2oBACqgE4jrs4t2ZA12YkceZAYZAqAMW3Uh4ZCC6IrPdxXTSudZChUNUiPqCEOxjJqbhmQP6iRUE9ABMtlmHLzXUkq2G0u8HlLK5QlUlqIcBBlxGCqcZBHZAEbhAVBcQz5JBtOWt6GHpIEn50l9RKMYVNN6Q2p5HV9Hcw4muXYTcnzV12z9ZBLsVdmab8P8Cgos0SAMptVYdZCKnHESiTOUCf78ZD&__previous=1&since=1659440063&until&__paging_token=enc_AdBUdw3ZCRbI8zmmdQhSZApBwFZCJVB7UJFYBLQhyd9lnu37gbGCqnJvZBVMFH76N1sZCVz0X3sGqADKcG4n5WdzZBcdt3MNph9bfaa8oHGZALchxOGmlA2SxlkABkcZAjnP11TDLAY8ZAOLkj8NSTvhMHXcyaZAub\",\n",
      "        \"next\": \"https://graph.facebook.com/v14.0/105108368968419/feed?access_token=EAAPzacrNY2oBACqgE4jrs4t2ZA12YkceZAYZAqAMW3Uh4ZCC6IrPdxXTSudZChUNUiPqCEOxjJqbhmQP6iRUE9ABMtlmHLzXUkq2G0u8HlLK5QlUlqIcBBlxGCqcZBHZAEbhAVBcQz5JBtOWt6GHpIEn50l9RKMYVNN6Q2p5HV9Hcw4muXYTcnzV12z9ZBLsVdmab8P8Cgos0SAMptVYdZCKnHESiTOUCf78ZD&until=948009600&since&__paging_token=enc_AdBxgUDg6wZCModR7jBFMPQGPC7w1EOpcnrqFUZBcsiB7lTSBMDOuuBgToUMIrlKN3N7UosHJMcmFflyziz2MbCfds1pMpIwcLaZAgWDSRUu5EDmtF9cyurjZB2pjnXtrzaMuJzarVUKHSeOc7udqayqCyxf&__previous\"\n",
      "    }\n",
      "}\n"
     ]
    }
   ],
   "source": [
    "feed = api.request('/me/feed')\n",
    "print(json.dumps(feed, indent=4))"
   ]
  },
  {
   "cell_type": "markdown",
   "metadata": {},
   "source": [
    "#### The below endpoint requires the app to be reviewed by facebook according to the new 3 level access model."
   ]
  },
  {
   "cell_type": "code",
   "execution_count": 135,
   "metadata": {},
   "outputs": [
    {
     "ename": "GraphAPIError",
     "evalue": "(#3) Application does not have the capability to make this API call.",
     "output_type": "error",
     "traceback": [
      "\u001b[0;31m---------------------------------------------------------------------------\u001b[0m",
      "\u001b[0;31mGraphAPIError\u001b[0m                             Traceback (most recent call last)",
      "\u001b[1;32m/home/neo/Documents/dev/SocialGraphFacebook/graphapi.ipynb Cell 7\u001b[0m in \u001b[0;36m<cell line: 1>\u001b[0;34m()\u001b[0m\n\u001b[0;32m----> <a href='vscode-notebook-cell:/home/neo/Documents/dev/SocialGraphFacebook/graphapi.ipynb#ch0000014?line=0'>1</a>\u001b[0m event \u001b[39m=\u001b[39m api\u001b[39m.\u001b[39;49mrequest(\u001b[39m'\u001b[39;49m\u001b[39m/search?q=Poetry&type=event&limit=10\u001b[39;49m\u001b[39m'\u001b[39;49m)\n",
      "File \u001b[0;32m~/Documents/dev/SocialGraphFacebook/venv/lib/python3.10/site-packages/facebook/__init__.py:313\u001b[0m, in \u001b[0;36mGraphAPI.request\u001b[0;34m(self, path, args, post_args, files, method)\u001b[0m\n\u001b[1;32m    310\u001b[0m     \u001b[39mraise\u001b[39;00m GraphAPIError(\u001b[39m\"\u001b[39m\u001b[39mMaintype was not text, image, or querystring\u001b[39m\u001b[39m\"\u001b[39m)\n\u001b[1;32m    312\u001b[0m \u001b[39mif\u001b[39;00m result \u001b[39mand\u001b[39;00m \u001b[39misinstance\u001b[39m(result, \u001b[39mdict\u001b[39m) \u001b[39mand\u001b[39;00m result\u001b[39m.\u001b[39mget(\u001b[39m\"\u001b[39m\u001b[39merror\u001b[39m\u001b[39m\"\u001b[39m):\n\u001b[0;32m--> 313\u001b[0m     \u001b[39mraise\u001b[39;00m GraphAPIError(result)\n\u001b[1;32m    314\u001b[0m \u001b[39mreturn\u001b[39;00m result\n",
      "\u001b[0;31mGraphAPIError\u001b[0m: (#3) Application does not have the capability to make this API call."
     ]
    }
   ],
   "source": [
    "event = api.request('/search?q=Poetry&type=event&limit=10')"
   ]
  },
  {
   "cell_type": "markdown",
   "metadata": {},
   "source": [
    "# Research Review"
   ]
  },
  {
   "cell_type": "markdown",
   "metadata": {},
   "source": [
    "#### Docs: https://developers.facebook.com/docs/graph-api\n",
    "I read through the docs of the graph api to figure out how to setup an app and hook it up to python using facebook sdk.\n",
    "it makes it super easy to get the data from the api. However, i also found out that in the new version and according to \n",
    "the new policies, you cannot do must with the end user data using the api without an app review.\n",
    "\n",
    "Here i am attaching two images to show that some endpoint have been restricted by facebook and the app either needs to be live\n",
    "or the permissions have to be reviewed by facebook before a call can be made."
   ]
  },
  {
   "cell_type": "markdown",
   "metadata": {},
   "source": [
    "<img src=\"./images/image1.png\" alt=\"youtube comments\">"
   ]
  },
  {
   "cell_type": "markdown",
   "metadata": {},
   "source": [
    "<img src=\"./images/image2.png\" alt=\"facebook dev console\">"
   ]
  },
  {
   "cell_type": "markdown",
   "metadata": {},
   "source": [
    "Other than this i found no problem working with it in the GRAPH API EXPLORER."
   ]
  }
 ],
 "metadata": {
  "kernelspec": {
   "display_name": "Python 3.10.4 ('venv': venv)",
   "language": "python",
   "name": "python3"
  },
  "language_info": {
   "codemirror_mode": {
    "name": "ipython",
    "version": 3
   },
   "file_extension": ".py",
   "mimetype": "text/x-python",
   "name": "python",
   "nbconvert_exporter": "python",
   "pygments_lexer": "ipython3",
   "version": "3.10.4"
  },
  "orig_nbformat": 4,
  "vscode": {
   "interpreter": {
    "hash": "38074ec7450167fdea0cbcfff484e7ab3615eeb11bfdf62cc8a93922a37f4d47"
   }
  }
 },
 "nbformat": 4,
 "nbformat_minor": 2
}
